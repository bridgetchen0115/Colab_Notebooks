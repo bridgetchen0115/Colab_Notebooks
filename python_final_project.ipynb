{
  "nbformat": 4,
  "nbformat_minor": 0,
  "metadata": {
    "kernelspec": {
      "display_name": "Python 3",
      "language": "python",
      "name": "python3"
    },
    "language_info": {
      "codemirror_mode": {
        "name": "ipython",
        "version": 3
      },
      "file_extension": ".py",
      "mimetype": "text/x-python",
      "name": "python",
      "nbconvert_exporter": "python",
      "pygments_lexer": "ipython3",
      "version": "3.7.4"
    },
    "colab": {
      "name": "final_project-updated.ipynb",
      "provenance": [],
      "collapsed_sections": [],
      "include_colab_link": true
    }
  },
  "cells": [
    {
      "cell_type": "markdown",
      "metadata": {
        "id": "view-in-github",
        "colab_type": "text"
      },
      "source": [
        "<a href=\"https://colab.research.google.com/github/aoyingxue/Colab_Notebooks/blob/master/python_final_project.ipynb\" target=\"_parent\"><img src=\"https://colab.research.google.com/assets/colab-badge.svg\" alt=\"Open In Colab\"/></a>"
      ]
    },
    {
      "cell_type": "code",
      "metadata": {
        "id": "9kP1p3toZNwT",
        "colab_type": "code",
        "outputId": "f85a9aa9-8cdb-4a13-e7c5-035fe1a10bff",
        "colab": {
          "base_uri": "https://localhost:8080/",
          "height": 54
        }
      },
      "source": [
        "from google.colab import drive\n",
        "drive.mount('/content/drive')"
      ],
      "execution_count": 0,
      "outputs": [
        {
          "output_type": "stream",
          "text": [
            "Drive already mounted at /content/drive; to attempt to forcibly remount, call drive.mount(\"/content/drive\", force_remount=True).\n"
          ],
          "name": "stdout"
        }
      ]
    },
    {
      "cell_type": "code",
      "metadata": {
        "id": "N2bISJCdcYkZ",
        "colab_type": "code",
        "outputId": "ad2255b6-a30d-4390-f915-e1d2004e1cdb",
        "colab": {
          "base_uri": "https://localhost:8080/",
          "height": 181
        }
      },
      "source": [
        "## put final_project under the directory of Colab Notebooks\n",
        "import os\n",
        "os.chdir(\"drive/My Drive/Colab Notebooks/final_project\")"
      ],
      "execution_count": 0,
      "outputs": [
        {
          "output_type": "error",
          "ename": "FileNotFoundError",
          "evalue": "ignored",
          "traceback": [
            "\u001b[0;31m---------------------------------------------------------------------------\u001b[0m",
            "\u001b[0;31mFileNotFoundError\u001b[0m                         Traceback (most recent call last)",
            "\u001b[0;32m<ipython-input-99-30071bdb5ed8>\u001b[0m in \u001b[0;36m<module>\u001b[0;34m()\u001b[0m\n\u001b[1;32m      1\u001b[0m \u001b[0;32mimport\u001b[0m \u001b[0mos\u001b[0m\u001b[0;34m\u001b[0m\u001b[0;34m\u001b[0m\u001b[0m\n\u001b[0;32m----> 2\u001b[0;31m \u001b[0mos\u001b[0m\u001b[0;34m.\u001b[0m\u001b[0mchdir\u001b[0m\u001b[0;34m(\u001b[0m\u001b[0;34m\"drive/My Drive/Colab Notebooks/final_project\"\u001b[0m\u001b[0;34m)\u001b[0m\u001b[0;34m\u001b[0m\u001b[0;34m\u001b[0m\u001b[0m\n\u001b[0m",
            "\u001b[0;31mFileNotFoundError\u001b[0m: [Errno 2] No such file or directory: 'drive/My Drive/Colab Notebooks/final_project'"
          ]
        }
      ]
    },
    {
      "cell_type": "code",
      "metadata": {
        "id": "eMJFu-Yhcuxw",
        "colab_type": "code",
        "outputId": "a242b5c2-71a7-4bb8-f455-12eccd7dac5e",
        "colab": {
          "base_uri": "https://localhost:8080/",
          "height": 156
        }
      },
      "source": [
        "!pip install pandasql"
      ],
      "execution_count": 0,
      "outputs": [
        {
          "output_type": "stream",
          "text": [
            "Requirement already satisfied: pandasql in /usr/local/lib/python3.6/dist-packages (0.7.3)\n",
            "Requirement already satisfied: numpy in /usr/local/lib/python3.6/dist-packages (from pandasql) (1.17.4)\n",
            "Requirement already satisfied: sqlalchemy in /usr/local/lib/python3.6/dist-packages (from pandasql) (1.3.11)\n",
            "Requirement already satisfied: pandas in /usr/local/lib/python3.6/dist-packages (from pandasql) (0.25.3)\n",
            "Requirement already satisfied: python-dateutil>=2.6.1 in /usr/local/lib/python3.6/dist-packages (from pandas->pandasql) (2.6.1)\n",
            "Requirement already satisfied: pytz>=2017.2 in /usr/local/lib/python3.6/dist-packages (from pandas->pandasql) (2018.9)\n",
            "Requirement already satisfied: six>=1.5 in /usr/local/lib/python3.6/dist-packages (from python-dateutil>=2.6.1->pandas->pandasql) (1.12.0)\n"
          ],
          "name": "stdout"
        }
      ]
    },
    {
      "cell_type": "markdown",
      "metadata": {
        "id": "26E_MvsKZL0Z",
        "colab_type": "text"
      },
      "source": [
        "# Final Project\n",
        "\n",
        "You will be asked to download data by yourselves and answer several data science questions through this final project. This project has two parts.\n",
        "\n",
        "\n",
        "## Part 1 (15 Points):\n",
        "\n",
        "This part contains 10 different data science questions that you are asked to answer. You need to download the corresponding data and write code to process the data to answer these questions. For each question, you need to provide your code to anser this question, as well as final answers. Each question will be worth 1.5 points in this part. \n",
        "\n",
        "\n",
        "## Final Submission:\n",
        "\n",
        "Your final submission will contain two files:\n",
        "\n",
        "1. The first would be this notebook. You need to provide code for your answers as well as your answers. You also need to provide visualization and executive summary using Markdown in this notebook. \n",
        "\n",
        "2. The second is the html version of this notebook. \n"
      ]
    },
    {
      "cell_type": "markdown",
      "metadata": {
        "id": "inH1_tPCZL0m",
        "colab_type": "text"
      },
      "source": [
        "## Part 1\n",
        "\n",
        "First, you need to download the most recent datasets containing listing and reviews in **Los Angeles** from [insidearibnb.com](http://insideairbnb.com/get-the-data.html). (September,2019,detailed data)You will then need to provide the code as well as answers to the following questions.\n",
        "\n",
        "**To make sure that you downloaded the right dataset, your solution to Question 1 should be:**\n",
        "1. **Number of unique listings = 45053**\n",
        "2. **Number of unique hosts = 26286**"
      ]
    },
    {
      "cell_type": "markdown",
      "metadata": {
        "id": "r6tSUbUpZL0q",
        "colab_type": "text"
      },
      "source": [
        "### Question 1: How many unique listings are there in the LA dataset? How many unique hosts are there?\n",
        "**Question 1 Answer:**\n",
        "\n",
        "1. Number of unique listings=45053\n",
        "2. Number of unique hosts=26286"
      ]
    },
    {
      "cell_type": "code",
      "metadata": {
        "id": "jryg0IPtZL0x",
        "colab_type": "code",
        "outputId": "92addc4d-c1d4-444a-d1b2-d211b26458a0",
        "colab": {
          "base_uri": "https://localhost:8080/",
          "height": 85
        }
      },
      "source": [
        "# You need to provide the code to answer the previous quesiton\n",
        "# (you should also briefly explain your data structure -- \n",
        "# where do you put your data and how you get your data)\n",
        "\n",
        "import pandas as pd\n",
        "import numpy as np\n",
        "\n",
        "listings_df=pd.read_csv(\"data/listings.csv\")\n",
        "print(len(listings_df.id.unique()))\n",
        "print(len(listings_df.host_id.unique()))\n",
        "reviews_df=pd.read_csv(\"data/reviews.csv\")\n",
        "calendar_df=pd.read_csv(\"data/calendar.csv\")\n"
      ],
      "execution_count": 101,
      "outputs": [
        {
          "output_type": "stream",
          "text": [
            "/usr/local/lib/python3.6/dist-packages/IPython/core/interactiveshell.py:2718: DtypeWarning: Columns (61,62) have mixed types. Specify dtype option on import or set low_memory=False.\n",
            "  interactivity=interactivity, compiler=compiler, result=result)\n"
          ],
          "name": "stderr"
        },
        {
          "output_type": "stream",
          "text": [
            "45053\n",
            "26286\n"
          ],
          "name": "stdout"
        }
      ]
    },
    {
      "cell_type": "markdown",
      "metadata": {
        "id": "2Z74HfPQZL2W",
        "colab_type": "text"
      },
      "source": [
        "### Question 2: What is the mean, median, standard deviation, minimum and maximum of the number of listings per host in LA? (for each host, you only need to consider the listings from LA)\n",
        "**Question 2 Answer:**\n",
        "\n",
        "1. Mean=12.375240\n",
        "2. Median=1\n",
        "3. Standard deviation=200.581428\n",
        "4. Minimum=1\n",
        "5. Maximum=18769"
      ]
    },
    {
      "cell_type": "code",
      "metadata": {
        "id": "grIOJIHWZL2Y",
        "colab_type": "code",
        "outputId": "e5631539-38a1-4c3c-954e-29ee99f1450a",
        "colab": {
          "base_uri": "https://localhost:8080/",
          "height": 170
        }
      },
      "source": [
        "from pandasql import sqldf\n",
        "def pysqldf(q):\n",
        "    return sqldf(q, globals())\n",
        "\n",
        "query1=\"\"\"select host_id as host, sum(calculated_host_listings_count) as numoflisting \\\n",
        "          from listings_df where city=\"Los Angeles\" group by host_id\"\"\"\n",
        "df_q2=pysqldf(query1)\n",
        "df_q2.numoflisting.describe()"
      ],
      "execution_count": 106,
      "outputs": [
        {
          "output_type": "execute_result",
          "data": {
            "text/plain": [
              "count    16688.000000\n",
              "mean        12.375240\n",
              "std        200.581428\n",
              "min          1.000000\n",
              "25%          1.000000\n",
              "50%          1.000000\n",
              "75%          1.000000\n",
              "max      18769.000000\n",
              "Name: numoflisting, dtype: float64"
            ]
          },
          "metadata": {
            "tags": []
          },
          "execution_count": 106
        }
      ]
    },
    {
      "cell_type": "markdown",
      "metadata": {
        "id": "7y-MJ9tcZL2d",
        "colab_type": "text"
      },
      "source": [
        "### Question 3: What is the average and standard deviation number of listings for a super host versus a non-super host? Does super host or non-super host have more listings on average?\n",
        "**Question 3 Answer:**\n",
        "\n",
        "\n",
        "1. Average for a super host = 13.425567\n",
        "2. Standard deviation for a super host = 355.529370 \n",
        "\n",
        "\n",
        "3. Average for a non-super host = 11.354948\n",
        "4. Standard deviation for a super host = 179.600226 \n",
        "\n",
        "So super hosts have more listings on average."
      ]
    },
    {
      "cell_type": "code",
      "metadata": {
        "id": "UeVgHb0bZL2e",
        "colab_type": "code",
        "outputId": "a6fd9b96-1e1b-4281-a206-52d0b0c48ba7",
        "colab": {
          "base_uri": "https://localhost:8080/",
          "height": 613
        }
      },
      "source": [
        "# You need to provide the code to answer the previous quesiton\n",
        "query2_non=\"\"\"select sum(calculated_host_listings_count) as numoflisting\\ \n",
        "              from listings_df\\\n",
        "              where host_is_superhost = \"f\"\\\n",
        "              group by host_id\"\"\"\n",
        "\n",
        "query2_super=\"\"\"select sum(calculated_host_listings_count) as numoflisting\\\n",
        "                from listings_df\\\n",
        "                where host_is_superhost = \"t\"\\\n",
        "                group by host_id\"\"\"\n",
        "\n",
        "df_q3_non=pysqldf(query2_non)\n",
        "df_q3_super=pysqldf(query2_super)\n",
        "print(df_q3_non.numoflisting.describe())\n",
        "print(df_q3_super.numoflisting.describe())"
      ],
      "execution_count": 107,
      "outputs": [
        {
          "output_type": "error",
          "ename": "PandaSQLException",
          "evalue": "ignored",
          "traceback": [
            "\u001b[0;31m---------------------------------------------------------------------------\u001b[0m",
            "\u001b[0;31mOperationalError\u001b[0m                          Traceback (most recent call last)",
            "\u001b[0;32m/usr/local/lib/python3.6/dist-packages/sqlalchemy/engine/base.py\u001b[0m in \u001b[0;36m_execute_context\u001b[0;34m(self, dialect, constructor, statement, parameters, *args)\u001b[0m\n\u001b[1;32m   1245\u001b[0m                     self.dialect.do_execute(\n\u001b[0;32m-> 1246\u001b[0;31m                         \u001b[0mcursor\u001b[0m\u001b[0;34m,\u001b[0m \u001b[0mstatement\u001b[0m\u001b[0;34m,\u001b[0m \u001b[0mparameters\u001b[0m\u001b[0;34m,\u001b[0m \u001b[0mcontext\u001b[0m\u001b[0;34m\u001b[0m\u001b[0;34m\u001b[0m\u001b[0m\n\u001b[0m\u001b[1;32m   1247\u001b[0m                     )\n",
            "\u001b[0;32m/usr/local/lib/python3.6/dist-packages/sqlalchemy/engine/default.py\u001b[0m in \u001b[0;36mdo_execute\u001b[0;34m(self, cursor, statement, parameters, context)\u001b[0m\n\u001b[1;32m    580\u001b[0m     \u001b[0;32mdef\u001b[0m \u001b[0mdo_execute\u001b[0m\u001b[0;34m(\u001b[0m\u001b[0mself\u001b[0m\u001b[0;34m,\u001b[0m \u001b[0mcursor\u001b[0m\u001b[0;34m,\u001b[0m \u001b[0mstatement\u001b[0m\u001b[0;34m,\u001b[0m \u001b[0mparameters\u001b[0m\u001b[0;34m,\u001b[0m \u001b[0mcontext\u001b[0m\u001b[0;34m=\u001b[0m\u001b[0;32mNone\u001b[0m\u001b[0;34m)\u001b[0m\u001b[0;34m:\u001b[0m\u001b[0;34m\u001b[0m\u001b[0;34m\u001b[0m\u001b[0m\n\u001b[0;32m--> 581\u001b[0;31m         \u001b[0mcursor\u001b[0m\u001b[0;34m.\u001b[0m\u001b[0mexecute\u001b[0m\u001b[0;34m(\u001b[0m\u001b[0mstatement\u001b[0m\u001b[0;34m,\u001b[0m \u001b[0mparameters\u001b[0m\u001b[0;34m)\u001b[0m\u001b[0;34m\u001b[0m\u001b[0;34m\u001b[0m\u001b[0m\n\u001b[0m\u001b[1;32m    582\u001b[0m \u001b[0;34m\u001b[0m\u001b[0m\n",
            "\u001b[0;31mOperationalError\u001b[0m: unrecognized token: \"\\\"",
            "\nThe above exception was the direct cause of the following exception:\n",
            "\u001b[0;31mOperationalError\u001b[0m                          Traceback (most recent call last)",
            "\u001b[0;32m/usr/local/lib/python3.6/dist-packages/pandasql/sqldf.py\u001b[0m in \u001b[0;36m__call__\u001b[0;34m(self, query, env)\u001b[0m\n\u001b[1;32m     60\u001b[0m             \u001b[0;32mtry\u001b[0m\u001b[0;34m:\u001b[0m\u001b[0;34m\u001b[0m\u001b[0;34m\u001b[0m\u001b[0m\n\u001b[0;32m---> 61\u001b[0;31m                 \u001b[0mresult\u001b[0m \u001b[0;34m=\u001b[0m \u001b[0mread_sql\u001b[0m\u001b[0;34m(\u001b[0m\u001b[0mquery\u001b[0m\u001b[0;34m,\u001b[0m \u001b[0mconn\u001b[0m\u001b[0;34m)\u001b[0m\u001b[0;34m\u001b[0m\u001b[0;34m\u001b[0m\u001b[0m\n\u001b[0m\u001b[1;32m     62\u001b[0m             \u001b[0;32mexcept\u001b[0m \u001b[0mDatabaseError\u001b[0m \u001b[0;32mas\u001b[0m \u001b[0mex\u001b[0m\u001b[0;34m:\u001b[0m\u001b[0;34m\u001b[0m\u001b[0;34m\u001b[0m\u001b[0m\n",
            "\u001b[0;32m/usr/local/lib/python3.6/dist-packages/pandas/io/sql.py\u001b[0m in \u001b[0;36mread_sql\u001b[0;34m(sql, con, index_col, coerce_float, params, parse_dates, columns, chunksize)\u001b[0m\n\u001b[1;32m    435\u001b[0m             \u001b[0mparse_dates\u001b[0m\u001b[0;34m=\u001b[0m\u001b[0mparse_dates\u001b[0m\u001b[0;34m,\u001b[0m\u001b[0;34m\u001b[0m\u001b[0;34m\u001b[0m\u001b[0m\n\u001b[0;32m--> 436\u001b[0;31m             \u001b[0mchunksize\u001b[0m\u001b[0;34m=\u001b[0m\u001b[0mchunksize\u001b[0m\u001b[0;34m,\u001b[0m\u001b[0;34m\u001b[0m\u001b[0;34m\u001b[0m\u001b[0m\n\u001b[0m\u001b[1;32m    437\u001b[0m         )\n",
            "\u001b[0;32m/usr/local/lib/python3.6/dist-packages/pandas/io/sql.py\u001b[0m in \u001b[0;36mread_query\u001b[0;34m(self, sql, index_col, coerce_float, parse_dates, params, chunksize)\u001b[0m\n\u001b[1;32m   1217\u001b[0m \u001b[0;34m\u001b[0m\u001b[0m\n\u001b[0;32m-> 1218\u001b[0;31m         \u001b[0mresult\u001b[0m \u001b[0;34m=\u001b[0m \u001b[0mself\u001b[0m\u001b[0;34m.\u001b[0m\u001b[0mexecute\u001b[0m\u001b[0;34m(\u001b[0m\u001b[0;34m*\u001b[0m\u001b[0margs\u001b[0m\u001b[0;34m)\u001b[0m\u001b[0;34m\u001b[0m\u001b[0;34m\u001b[0m\u001b[0m\n\u001b[0m\u001b[1;32m   1219\u001b[0m         \u001b[0mcolumns\u001b[0m \u001b[0;34m=\u001b[0m \u001b[0mresult\u001b[0m\u001b[0;34m.\u001b[0m\u001b[0mkeys\u001b[0m\u001b[0;34m(\u001b[0m\u001b[0;34m)\u001b[0m\u001b[0;34m\u001b[0m\u001b[0;34m\u001b[0m\u001b[0m\n",
            "\u001b[0;32m/usr/local/lib/python3.6/dist-packages/pandas/io/sql.py\u001b[0m in \u001b[0;36mexecute\u001b[0;34m(self, *args, **kwargs)\u001b[0m\n\u001b[1;32m   1086\u001b[0m         \u001b[0;34m\"\"\"Simple passthrough to SQLAlchemy connectable\"\"\"\u001b[0m\u001b[0;34m\u001b[0m\u001b[0;34m\u001b[0m\u001b[0m\n\u001b[0;32m-> 1087\u001b[0;31m         \u001b[0;32mreturn\u001b[0m \u001b[0mself\u001b[0m\u001b[0;34m.\u001b[0m\u001b[0mconnectable\u001b[0m\u001b[0;34m.\u001b[0m\u001b[0mexecute\u001b[0m\u001b[0;34m(\u001b[0m\u001b[0;34m*\u001b[0m\u001b[0margs\u001b[0m\u001b[0;34m,\u001b[0m \u001b[0;34m**\u001b[0m\u001b[0mkwargs\u001b[0m\u001b[0;34m)\u001b[0m\u001b[0;34m\u001b[0m\u001b[0;34m\u001b[0m\u001b[0m\n\u001b[0m\u001b[1;32m   1088\u001b[0m \u001b[0;34m\u001b[0m\u001b[0m\n",
            "\u001b[0;32m/usr/local/lib/python3.6/dist-packages/sqlalchemy/engine/base.py\u001b[0m in \u001b[0;36mexecute\u001b[0;34m(self, object_, *multiparams, **params)\u001b[0m\n\u001b[1;32m    975\u001b[0m         \u001b[0;32mif\u001b[0m \u001b[0misinstance\u001b[0m\u001b[0;34m(\u001b[0m\u001b[0mobject_\u001b[0m\u001b[0;34m,\u001b[0m \u001b[0mutil\u001b[0m\u001b[0;34m.\u001b[0m\u001b[0mstring_types\u001b[0m\u001b[0;34m[\u001b[0m\u001b[0;36m0\u001b[0m\u001b[0;34m]\u001b[0m\u001b[0;34m)\u001b[0m\u001b[0;34m:\u001b[0m\u001b[0;34m\u001b[0m\u001b[0;34m\u001b[0m\u001b[0m\n\u001b[0;32m--> 976\u001b[0;31m             \u001b[0;32mreturn\u001b[0m \u001b[0mself\u001b[0m\u001b[0;34m.\u001b[0m\u001b[0m_execute_text\u001b[0m\u001b[0;34m(\u001b[0m\u001b[0mobject_\u001b[0m\u001b[0;34m,\u001b[0m \u001b[0mmultiparams\u001b[0m\u001b[0;34m,\u001b[0m \u001b[0mparams\u001b[0m\u001b[0;34m)\u001b[0m\u001b[0;34m\u001b[0m\u001b[0;34m\u001b[0m\u001b[0m\n\u001b[0m\u001b[1;32m    977\u001b[0m         \u001b[0;32mtry\u001b[0m\u001b[0;34m:\u001b[0m\u001b[0;34m\u001b[0m\u001b[0;34m\u001b[0m\u001b[0m\n",
            "\u001b[0;32m/usr/local/lib/python3.6/dist-packages/sqlalchemy/engine/base.py\u001b[0m in \u001b[0;36m_execute_text\u001b[0;34m(self, statement, multiparams, params)\u001b[0m\n\u001b[1;32m   1148\u001b[0m             \u001b[0mstatement\u001b[0m\u001b[0;34m,\u001b[0m\u001b[0;34m\u001b[0m\u001b[0;34m\u001b[0m\u001b[0m\n\u001b[0;32m-> 1149\u001b[0;31m             \u001b[0mparameters\u001b[0m\u001b[0;34m,\u001b[0m\u001b[0;34m\u001b[0m\u001b[0;34m\u001b[0m\u001b[0m\n\u001b[0m\u001b[1;32m   1150\u001b[0m         )\n",
            "\u001b[0;32m/usr/local/lib/python3.6/dist-packages/sqlalchemy/engine/base.py\u001b[0m in \u001b[0;36m_execute_context\u001b[0;34m(self, dialect, constructor, statement, parameters, *args)\u001b[0m\n\u001b[1;32m   1249\u001b[0m             self._handle_dbapi_exception(\n\u001b[0;32m-> 1250\u001b[0;31m                 \u001b[0me\u001b[0m\u001b[0;34m,\u001b[0m \u001b[0mstatement\u001b[0m\u001b[0;34m,\u001b[0m \u001b[0mparameters\u001b[0m\u001b[0;34m,\u001b[0m \u001b[0mcursor\u001b[0m\u001b[0;34m,\u001b[0m \u001b[0mcontext\u001b[0m\u001b[0;34m\u001b[0m\u001b[0;34m\u001b[0m\u001b[0m\n\u001b[0m\u001b[1;32m   1251\u001b[0m             )\n",
            "\u001b[0;32m/usr/local/lib/python3.6/dist-packages/sqlalchemy/engine/base.py\u001b[0m in \u001b[0;36m_handle_dbapi_exception\u001b[0;34m(self, e, statement, parameters, cursor, context)\u001b[0m\n\u001b[1;32m   1475\u001b[0m             \u001b[0;32melif\u001b[0m \u001b[0mshould_wrap\u001b[0m\u001b[0;34m:\u001b[0m\u001b[0;34m\u001b[0m\u001b[0;34m\u001b[0m\u001b[0m\n\u001b[0;32m-> 1476\u001b[0;31m                 \u001b[0mutil\u001b[0m\u001b[0;34m.\u001b[0m\u001b[0mraise_from_cause\u001b[0m\u001b[0;34m(\u001b[0m\u001b[0msqlalchemy_exception\u001b[0m\u001b[0;34m,\u001b[0m \u001b[0mexc_info\u001b[0m\u001b[0;34m)\u001b[0m\u001b[0;34m\u001b[0m\u001b[0;34m\u001b[0m\u001b[0m\n\u001b[0m\u001b[1;32m   1477\u001b[0m             \u001b[0;32melse\u001b[0m\u001b[0;34m:\u001b[0m\u001b[0;34m\u001b[0m\u001b[0;34m\u001b[0m\u001b[0m\n",
            "\u001b[0;32m/usr/local/lib/python3.6/dist-packages/sqlalchemy/util/compat.py\u001b[0m in \u001b[0;36mraise_from_cause\u001b[0;34m(exception, exc_info)\u001b[0m\n\u001b[1;32m    397\u001b[0m     \u001b[0mcause\u001b[0m \u001b[0;34m=\u001b[0m \u001b[0mexc_value\u001b[0m \u001b[0;32mif\u001b[0m \u001b[0mexc_value\u001b[0m \u001b[0;32mis\u001b[0m \u001b[0;32mnot\u001b[0m \u001b[0mexception\u001b[0m \u001b[0;32melse\u001b[0m \u001b[0;32mNone\u001b[0m\u001b[0;34m\u001b[0m\u001b[0;34m\u001b[0m\u001b[0m\n\u001b[0;32m--> 398\u001b[0;31m     \u001b[0mreraise\u001b[0m\u001b[0;34m(\u001b[0m\u001b[0mtype\u001b[0m\u001b[0;34m(\u001b[0m\u001b[0mexception\u001b[0m\u001b[0;34m)\u001b[0m\u001b[0;34m,\u001b[0m \u001b[0mexception\u001b[0m\u001b[0;34m,\u001b[0m \u001b[0mtb\u001b[0m\u001b[0;34m=\u001b[0m\u001b[0mexc_tb\u001b[0m\u001b[0;34m,\u001b[0m \u001b[0mcause\u001b[0m\u001b[0;34m=\u001b[0m\u001b[0mcause\u001b[0m\u001b[0;34m)\u001b[0m\u001b[0;34m\u001b[0m\u001b[0;34m\u001b[0m\u001b[0m\n\u001b[0m\u001b[1;32m    399\u001b[0m \u001b[0;34m\u001b[0m\u001b[0m\n",
            "\u001b[0;32m/usr/local/lib/python3.6/dist-packages/sqlalchemy/util/compat.py\u001b[0m in \u001b[0;36mreraise\u001b[0;34m(tp, value, tb, cause)\u001b[0m\n\u001b[1;32m    151\u001b[0m         \u001b[0;32mif\u001b[0m \u001b[0mvalue\u001b[0m\u001b[0;34m.\u001b[0m\u001b[0m__traceback__\u001b[0m \u001b[0;32mis\u001b[0m \u001b[0;32mnot\u001b[0m \u001b[0mtb\u001b[0m\u001b[0;34m:\u001b[0m\u001b[0;34m\u001b[0m\u001b[0;34m\u001b[0m\u001b[0m\n\u001b[0;32m--> 152\u001b[0;31m             \u001b[0;32mraise\u001b[0m \u001b[0mvalue\u001b[0m\u001b[0;34m.\u001b[0m\u001b[0mwith_traceback\u001b[0m\u001b[0;34m(\u001b[0m\u001b[0mtb\u001b[0m\u001b[0;34m)\u001b[0m\u001b[0;34m\u001b[0m\u001b[0;34m\u001b[0m\u001b[0m\n\u001b[0m\u001b[1;32m    153\u001b[0m         \u001b[0;32mraise\u001b[0m \u001b[0mvalue\u001b[0m\u001b[0;34m\u001b[0m\u001b[0;34m\u001b[0m\u001b[0m\n",
            "\u001b[0;32m/usr/local/lib/python3.6/dist-packages/sqlalchemy/engine/base.py\u001b[0m in \u001b[0;36m_execute_context\u001b[0;34m(self, dialect, constructor, statement, parameters, *args)\u001b[0m\n\u001b[1;32m   1245\u001b[0m                     self.dialect.do_execute(\n\u001b[0;32m-> 1246\u001b[0;31m                         \u001b[0mcursor\u001b[0m\u001b[0;34m,\u001b[0m \u001b[0mstatement\u001b[0m\u001b[0;34m,\u001b[0m \u001b[0mparameters\u001b[0m\u001b[0;34m,\u001b[0m \u001b[0mcontext\u001b[0m\u001b[0;34m\u001b[0m\u001b[0;34m\u001b[0m\u001b[0m\n\u001b[0m\u001b[1;32m   1247\u001b[0m                     )\n",
            "\u001b[0;32m/usr/local/lib/python3.6/dist-packages/sqlalchemy/engine/default.py\u001b[0m in \u001b[0;36mdo_execute\u001b[0;34m(self, cursor, statement, parameters, context)\u001b[0m\n\u001b[1;32m    580\u001b[0m     \u001b[0;32mdef\u001b[0m \u001b[0mdo_execute\u001b[0m\u001b[0;34m(\u001b[0m\u001b[0mself\u001b[0m\u001b[0;34m,\u001b[0m \u001b[0mcursor\u001b[0m\u001b[0;34m,\u001b[0m \u001b[0mstatement\u001b[0m\u001b[0;34m,\u001b[0m \u001b[0mparameters\u001b[0m\u001b[0;34m,\u001b[0m \u001b[0mcontext\u001b[0m\u001b[0;34m=\u001b[0m\u001b[0;32mNone\u001b[0m\u001b[0;34m)\u001b[0m\u001b[0;34m:\u001b[0m\u001b[0;34m\u001b[0m\u001b[0;34m\u001b[0m\u001b[0m\n\u001b[0;32m--> 581\u001b[0;31m         \u001b[0mcursor\u001b[0m\u001b[0;34m.\u001b[0m\u001b[0mexecute\u001b[0m\u001b[0;34m(\u001b[0m\u001b[0mstatement\u001b[0m\u001b[0;34m,\u001b[0m \u001b[0mparameters\u001b[0m\u001b[0;34m)\u001b[0m\u001b[0;34m\u001b[0m\u001b[0;34m\u001b[0m\u001b[0m\n\u001b[0m\u001b[1;32m    582\u001b[0m \u001b[0;34m\u001b[0m\u001b[0m\n",
            "\u001b[0;31mOperationalError\u001b[0m: (sqlite3.OperationalError) unrecognized token: \"\\\"\n[SQL: select sum(calculated_host_listings_count) as numoflisting\\ \n              from listings_df              where host_is_superhost = \"f\"              group by host_id]\n(Background on this error at: http://sqlalche.me/e/e3q8)",
            "\nDuring handling of the above exception, another exception occurred:\n",
            "\u001b[0;31mPandaSQLException\u001b[0m                         Traceback (most recent call last)",
            "\u001b[0;32m<ipython-input-107-dc177311257a>\u001b[0m in \u001b[0;36m<module>\u001b[0;34m()\u001b[0m\n\u001b[1;32m      6\u001b[0m \u001b[0mquery2_super\u001b[0m\u001b[0;34m=\u001b[0m\u001b[0;34m\"\"\"select sum(calculated_host_listings_count) as numoflisting                from listings_df                where host_is_superhost = \"t\"                group by host_id\"\"\"\u001b[0m\u001b[0;34m\u001b[0m\u001b[0;34m\u001b[0m\u001b[0m\n\u001b[1;32m      7\u001b[0m \u001b[0;34m\u001b[0m\u001b[0m\n\u001b[0;32m----> 8\u001b[0;31m \u001b[0mdf_q3_non\u001b[0m\u001b[0;34m=\u001b[0m\u001b[0mpysqldf\u001b[0m\u001b[0;34m(\u001b[0m\u001b[0mquery2_non\u001b[0m\u001b[0;34m)\u001b[0m\u001b[0;34m\u001b[0m\u001b[0;34m\u001b[0m\u001b[0m\n\u001b[0m\u001b[1;32m      9\u001b[0m \u001b[0mdf_q3_super\u001b[0m\u001b[0;34m=\u001b[0m\u001b[0mpysqldf\u001b[0m\u001b[0;34m(\u001b[0m\u001b[0mquery2_super\u001b[0m\u001b[0;34m)\u001b[0m\u001b[0;34m\u001b[0m\u001b[0;34m\u001b[0m\u001b[0m\n\u001b[1;32m     10\u001b[0m \u001b[0mprint\u001b[0m\u001b[0;34m(\u001b[0m\u001b[0mdf_q3_non\u001b[0m\u001b[0;34m.\u001b[0m\u001b[0mnumoflisting\u001b[0m\u001b[0;34m.\u001b[0m\u001b[0mdescribe\u001b[0m\u001b[0;34m(\u001b[0m\u001b[0;34m)\u001b[0m\u001b[0;34m)\u001b[0m\u001b[0;34m\u001b[0m\u001b[0;34m\u001b[0m\u001b[0m\n",
            "\u001b[0;32m<ipython-input-106-60fe76a6b4a3>\u001b[0m in \u001b[0;36mpysqldf\u001b[0;34m(q)\u001b[0m\n\u001b[1;32m      1\u001b[0m \u001b[0;32mfrom\u001b[0m \u001b[0mpandasql\u001b[0m \u001b[0;32mimport\u001b[0m \u001b[0msqldf\u001b[0m\u001b[0;34m\u001b[0m\u001b[0;34m\u001b[0m\u001b[0m\n\u001b[1;32m      2\u001b[0m \u001b[0;32mdef\u001b[0m \u001b[0mpysqldf\u001b[0m\u001b[0;34m(\u001b[0m\u001b[0mq\u001b[0m\u001b[0;34m)\u001b[0m\u001b[0;34m:\u001b[0m\u001b[0;34m\u001b[0m\u001b[0;34m\u001b[0m\u001b[0m\n\u001b[0;32m----> 3\u001b[0;31m     \u001b[0;32mreturn\u001b[0m \u001b[0msqldf\u001b[0m\u001b[0;34m(\u001b[0m\u001b[0mq\u001b[0m\u001b[0;34m,\u001b[0m \u001b[0mglobals\u001b[0m\u001b[0;34m(\u001b[0m\u001b[0;34m)\u001b[0m\u001b[0;34m)\u001b[0m\u001b[0;34m\u001b[0m\u001b[0;34m\u001b[0m\u001b[0m\n\u001b[0m\u001b[1;32m      4\u001b[0m \u001b[0;34m\u001b[0m\u001b[0m\n\u001b[1;32m      5\u001b[0m \u001b[0mquery1\u001b[0m\u001b[0;34m=\u001b[0m\u001b[0;34m\"\"\"select host_id as host, sum(calculated_host_listings_count) as numoflisting           from listings_df where city=\"Los Angeles\" group by host_id\"\"\"\u001b[0m\u001b[0;34m\u001b[0m\u001b[0;34m\u001b[0m\u001b[0m\n",
            "\u001b[0;32m/usr/local/lib/python3.6/dist-packages/pandasql/sqldf.py\u001b[0m in \u001b[0;36msqldf\u001b[0;34m(query, env, db_uri)\u001b[0m\n\u001b[1;32m    154\u001b[0m     \u001b[0;34m>>\u001b[0m\u001b[0;34m>\u001b[0m \u001b[0msqldf\u001b[0m\u001b[0;34m(\u001b[0m\u001b[0;34m\"select avg(x) from df;\"\u001b[0m\u001b[0;34m,\u001b[0m \u001b[0mlocals\u001b[0m\u001b[0;34m(\u001b[0m\u001b[0;34m)\u001b[0m\u001b[0;34m)\u001b[0m\u001b[0;34m\u001b[0m\u001b[0;34m\u001b[0m\u001b[0m\n\u001b[1;32m    155\u001b[0m     \"\"\"\n\u001b[0;32m--> 156\u001b[0;31m     \u001b[0;32mreturn\u001b[0m \u001b[0mPandaSQL\u001b[0m\u001b[0;34m(\u001b[0m\u001b[0mdb_uri\u001b[0m\u001b[0;34m)\u001b[0m\u001b[0;34m(\u001b[0m\u001b[0mquery\u001b[0m\u001b[0;34m,\u001b[0m \u001b[0menv\u001b[0m\u001b[0;34m)\u001b[0m\u001b[0;34m\u001b[0m\u001b[0;34m\u001b[0m\u001b[0m\n\u001b[0m",
            "\u001b[0;32m/usr/local/lib/python3.6/dist-packages/pandasql/sqldf.py\u001b[0m in \u001b[0;36m__call__\u001b[0;34m(self, query, env)\u001b[0m\n\u001b[1;32m     61\u001b[0m                 \u001b[0mresult\u001b[0m \u001b[0;34m=\u001b[0m \u001b[0mread_sql\u001b[0m\u001b[0;34m(\u001b[0m\u001b[0mquery\u001b[0m\u001b[0;34m,\u001b[0m \u001b[0mconn\u001b[0m\u001b[0;34m)\u001b[0m\u001b[0;34m\u001b[0m\u001b[0;34m\u001b[0m\u001b[0m\n\u001b[1;32m     62\u001b[0m             \u001b[0;32mexcept\u001b[0m \u001b[0mDatabaseError\u001b[0m \u001b[0;32mas\u001b[0m \u001b[0mex\u001b[0m\u001b[0;34m:\u001b[0m\u001b[0;34m\u001b[0m\u001b[0;34m\u001b[0m\u001b[0m\n\u001b[0;32m---> 63\u001b[0;31m                 \u001b[0;32mraise\u001b[0m \u001b[0mPandaSQLException\u001b[0m\u001b[0;34m(\u001b[0m\u001b[0mex\u001b[0m\u001b[0;34m)\u001b[0m\u001b[0;34m\u001b[0m\u001b[0;34m\u001b[0m\u001b[0m\n\u001b[0m\u001b[1;32m     64\u001b[0m             \u001b[0;32mexcept\u001b[0m \u001b[0mResourceClosedError\u001b[0m\u001b[0;34m:\u001b[0m\u001b[0;34m\u001b[0m\u001b[0;34m\u001b[0m\u001b[0m\n\u001b[1;32m     65\u001b[0m                 \u001b[0;31m# query returns nothing\u001b[0m\u001b[0;34m\u001b[0m\u001b[0;34m\u001b[0m\u001b[0;34m\u001b[0m\u001b[0m\n",
            "\u001b[0;31mPandaSQLException\u001b[0m: (sqlite3.OperationalError) unrecognized token: \"\\\"\n[SQL: select sum(calculated_host_listings_count) as numoflisting\\ \n              from listings_df              where host_is_superhost = \"f\"              group by host_id]\n(Background on this error at: http://sqlalche.me/e/e3q8)"
          ]
        }
      ]
    },
    {
      "cell_type": "markdown",
      "metadata": {
        "id": "mif1d3aIZL2j",
        "colab_type": "text"
      },
      "source": [
        "### Question 4: What are the unique types of host verifications are there? (It doesn't matter if you include \"None\" or empty string as a type)\n",
        "**Question 4 Answer:**\n",
        "\n",
        "There are 21 unique types of host verifications, including 'email', 'phone', 'facebook',  'reviews', 'kba', 'jumio', 'government_id', 'offline_government_id', 'selfie', 'identity_manual', 'work_email', 'manual_online', 'manual_offline', 'google', 'sent_id', 'None', 'sesame', 'sesame_offline', 'photographer', 'zhima_selfie', and 'weibo'."
      ]
    },
    {
      "cell_type": "code",
      "metadata": {
        "id": "xUTwhpAWZL2k",
        "colab_type": "code",
        "outputId": "8e6cea66-2968-4ae6-8d83-7b9febb53dad",
        "colab": {
          "base_uri": "https://localhost:8080/",
          "height": 71
        }
      },
      "source": [
        "## dataframe for host ids and verifications\n",
        "host_verif=listings_df.drop_duplicates(\n",
        "    keep=\"first\",\n",
        "    subset=[\"host_id\",\"host_verifications\"])[[\"host_id\",\"host_verifications\"]]\n",
        "\n",
        "## deal with the characters\n",
        "host_verif[\"host_verifications\"]=[v.strip(\"[\").strip(\"]\").split(\",\")\\\n",
        "                                  for v in host_verif[\"host_verifications\"]]\n",
        "host_verif[\"host_verifications\"]=host_verif[\"host_verifications\"]\\\n",
        "                                .apply(lambda x: [s.strip(\"'\").strip(\" \")\\\n",
        "                                                  .lstrip(\"'\") for s in x])\n",
        "\n",
        "## verification types\n",
        "verifications=[]\n",
        "for i, item in enumerate(host_verif[\"host_verifications\"]):\n",
        "    if item not in verifications:\n",
        "        for v in item:\n",
        "            if v not in verifications and v!=\"\":\n",
        "                verifications.append(v)\n",
        "print(verifications) \n",
        "print(len(verifications))"
      ],
      "execution_count": 108,
      "outputs": [
        {
          "output_type": "stream",
          "text": [
            "['email', 'phone', 'facebook', 'reviews', 'kba', 'jumio', 'government_id', 'offline_government_id', 'selfie', 'identity_manual', 'work_email', 'manual_online', 'manual_offline', 'google', 'sent_id', 'None', 'sesame', 'sesame_offline', 'photographer', 'zhima_selfie', 'weibo']\n",
            "21\n"
          ],
          "name": "stdout"
        }
      ]
    },
    {
      "cell_type": "markdown",
      "metadata": {
        "id": "E2NgopC1ZL2n",
        "colab_type": "text"
      },
      "source": [
        "### Question 5: What are the five most popular verification types of hosts? For each type of the top five verifications, how many percent of hosts verify that type?\n",
        "**Question 5 Answer:**\n",
        "\n",
        "- The five most popular verification types of hosts are by phone (99.6766%), email (93.8370%), reviews (68.8541%), government_id (58.7689%), jumio (43.3387%)."
      ]
    },
    {
      "cell_type": "code",
      "metadata": {
        "id": "RFVJsJv-ZL2o",
        "colab_type": "code",
        "outputId": "cb6bbbfb-56c1-4588-8f00-e76c0dd490ba",
        "colab": {
          "base_uri": "https://localhost:8080/",
          "height": 221
        }
      },
      "source": [
        "## count how many times for each verification type to appear\n",
        "veri_dict={}\n",
        "for i,item in enumerate(host_verif[\"host_verifications\"]):\n",
        "    for j in range(len(item)):\n",
        "        if item[j] not in veri_dict.keys():\n",
        "            veri_dict[item[j]]=1\n",
        "        else:\n",
        "            veri_dict[item[j]]+=1 \n",
        "## sort the times\n",
        "sort_veri=sorted(((value,key) for (key,value) in veri_dict.items()),\\\n",
        "                 reverse=True)\n",
        "top5_veri=[(key,value) for (value,key) in sort_veri[:5]]\n",
        "\n",
        "## print the top 5 verifications and the times of each\n",
        "top5_df=pd.concat([pd.DataFrame([[top5_veri[i][0],top5_veri[i][1]]],\n",
        "                                columns=[\"type\",\"times\"])for i in range(5)])\\\n",
        "        .reset_index(drop=True)\n",
        "\n",
        "## number of unique host ids\n",
        "num_hosts=host_verif.host_id.nunique()\n",
        "print(num_hosts) ## total number of hosts\n",
        "\n",
        "top5_df[\"perc\"]=top5_df.times.apply(lambda x:x/num_hosts)\n",
        "top5_df"
      ],
      "execution_count": 109,
      "outputs": [
        {
          "output_type": "stream",
          "text": [
            "26286\n"
          ],
          "name": "stdout"
        },
        {
          "output_type": "execute_result",
          "data": {
            "text/html": [
              "<div>\n",
              "<style scoped>\n",
              "    .dataframe tbody tr th:only-of-type {\n",
              "        vertical-align: middle;\n",
              "    }\n",
              "\n",
              "    .dataframe tbody tr th {\n",
              "        vertical-align: top;\n",
              "    }\n",
              "\n",
              "    .dataframe thead th {\n",
              "        text-align: right;\n",
              "    }\n",
              "</style>\n",
              "<table border=\"1\" class=\"dataframe\">\n",
              "  <thead>\n",
              "    <tr style=\"text-align: right;\">\n",
              "      <th></th>\n",
              "      <th>type</th>\n",
              "      <th>times</th>\n",
              "      <th>perc</th>\n",
              "    </tr>\n",
              "  </thead>\n",
              "  <tbody>\n",
              "    <tr>\n",
              "      <th>0</th>\n",
              "      <td>phone</td>\n",
              "      <td>26201</td>\n",
              "      <td>0.996766</td>\n",
              "    </tr>\n",
              "    <tr>\n",
              "      <th>1</th>\n",
              "      <td>email</td>\n",
              "      <td>24666</td>\n",
              "      <td>0.938370</td>\n",
              "    </tr>\n",
              "    <tr>\n",
              "      <th>2</th>\n",
              "      <td>reviews</td>\n",
              "      <td>18099</td>\n",
              "      <td>0.688541</td>\n",
              "    </tr>\n",
              "    <tr>\n",
              "      <th>3</th>\n",
              "      <td>government_id</td>\n",
              "      <td>15448</td>\n",
              "      <td>0.587689</td>\n",
              "    </tr>\n",
              "    <tr>\n",
              "      <th>4</th>\n",
              "      <td>jumio</td>\n",
              "      <td>11392</td>\n",
              "      <td>0.433387</td>\n",
              "    </tr>\n",
              "  </tbody>\n",
              "</table>\n",
              "</div>"
            ],
            "text/plain": [
              "            type  times      perc\n",
              "0          phone  26201  0.996766\n",
              "1          email  24666  0.938370\n",
              "2        reviews  18099  0.688541\n",
              "3  government_id  15448  0.587689\n",
              "4          jumio  11392  0.433387"
            ]
          },
          "metadata": {
            "tags": []
          },
          "execution_count": 109
        }
      ]
    },
    {
      "cell_type": "markdown",
      "metadata": {
        "id": "P_7t_xTsZL2q",
        "colab_type": "text"
      },
      "source": [
        "### Question 6: What is the mean, standard deviation of the average price of a listing in Los Angles from 01/01/2020 to 03/01/2020 (inclusive)? (For listings that are not available in this time, you should not count them in the average price.)\n",
        "\n",
        "**Question 6 Answer:**\n",
        "\n",
        "- Mean = 218.028763\n",
        "- Standard deviation = 580.214329"
      ]
    },
    {
      "cell_type": "code",
      "metadata": {
        "scrolled": true,
        "id": "G4OkWccyZL2q",
        "colab_type": "code",
        "outputId": "7b1c3db6-b31c-4067-c067-57f48da75260",
        "colab": {
          "base_uri": "https://localhost:8080/",
          "height": 224
        }
      },
      "source": [
        "## process price column\n",
        "calendar_df.price=calendar_df.price.apply(lambda x: float(x.strip(\"$\")\\\n",
        "                                                          .replace(\",\",\"\"))\\\n",
        "                                          if type(x)==str else x)\n",
        "\n",
        "## process date column and filter\n",
        "calendar_df.date=pd.to_datetime(calendar_df.date)\n",
        "calendar_temp=calendar_df.loc[(calendar_df.date>=pd.Timestamp(2020,1,1)) & \\\n",
        "                              (calendar_df.date<=pd.Timestamp(2020,3,1)) & \\\n",
        "                              calendar_df.price!=\"f\",]\\\n",
        "                .reset_index(inplace=False,drop=True)\n",
        "\n",
        "\n",
        "## group by listing ids and calculate average price\n",
        "avg_price_df=calendar_temp.groupby(by=\"listing_id\").price.mean()\n",
        "print(avg_price_df.describe())\n"
      ],
      "execution_count": 110,
      "outputs": [
        {
          "output_type": "stream",
          "text": [
            "/usr/local/lib/python3.6/dist-packages/pandas/core/ops/__init__.py:1115: FutureWarning: elementwise comparison failed; returning scalar instead, but in the future will perform elementwise comparison\n",
            "  result = method(y)\n"
          ],
          "name": "stderr"
        },
        {
          "output_type": "stream",
          "text": [
            "count    45053.000000\n",
            "mean       218.028763\n",
            "std        580.214329\n",
            "min         10.027397\n",
            "25%         71.531507\n",
            "50%        111.446575\n",
            "75%        190.493151\n",
            "max      25000.000000\n",
            "Name: price, dtype: float64\n"
          ],
          "name": "stdout"
        }
      ]
    },
    {
      "cell_type": "markdown",
      "metadata": {
        "id": "z88N90E2ZL2t",
        "colab_type": "text"
      },
      "source": [
        "### Question 7: For reviews that are written in Jan, 2016, what are the most popular ten words except stopping words? What about reviews written in March, 2017 and April, 2018?\n",
        "**Hint**: You need to use NTLK stopping words to find the stopping words in Python. You also need to remove punctuation and numbers\n",
        "\n",
        "**Question 7 Answer:**\n",
        "\n",
        "- Top 10 popular words for Jan 2016 are ('great', 5374), ('stay', 4661), ('place', 4284), ('clean', 2719), ('location', 2694), ('house', 2642), ('us', 2630), ('nice', 2403), ('would', 2382), ('host', 2325).\n",
        "\n",
        "- Top 10 popular words for March 2017 are ('great', 12169), ('place', 11528), ('stay', 9453), ('location', 5860), ('clean', 5444), ('nice', 4540), ('would', 4514), ('host', 4422), ('house', 3769), ('comfortable', 3756).\n",
        "\n",
        "- Top 10 popular words for April 2018 are ('great', 18787), ('place', 18654), ('stay', 14739), ('location', 9983), ('clean', 9031), ('would', 7263), ('nice', 6797), ('host', 6789), ('house', 5516), ('la', 5491)\n"
      ]
    },
    {
      "cell_type": "code",
      "metadata": {
        "id": "RCrrPNeqZL2t",
        "colab_type": "code",
        "outputId": "790f57f3-1813-4ff8-dc0a-5f875e2b984d",
        "colab": {
          "base_uri": "https://localhost:8080/",
          "height": 88
        }
      },
      "source": [
        "## import and download nltk stopwords\n",
        "import nltk\n",
        "from nltk.corpus import stopwords\n",
        "# nltk.download('stopwords')\n",
        "import string\n",
        "\n",
        "## process date column and filter\n",
        "reviews_df.date=pd.to_datetime(reviews_df.date)\n",
        "\n",
        "def find_top_word(reviews_df,month_num,year_num):\n",
        "    if month_num<12:\n",
        "        reviews=reviews_df.loc[(reviews_df.date>=pd.Timestamp(year_num,month_num,1)) & \\\n",
        "                               (reviews_df.date<pd.Timestamp(year_num,month_num+1,1)),]\\\n",
        "                               .reset_index(inplace=False,drop=True)\n",
        "        reviews.comments.dropna(axis=0)\n",
        "\n",
        "        ## process punctuations\n",
        "        transtable = str.maketrans('', '', string.punctuation) ## the third argument will be mapped to None\n",
        "        comments=reviews.comments.apply(lambda x:x.lower()\\\n",
        "                                              .translate(transtable)\\\n",
        "                                              .split(\" \") if type(x)==str else x)\n",
        "        ## remove stop words\n",
        "        stop_words=set(stopwords.words('english'))\n",
        "        comments=comments.apply(lambda x: [s for s in x if ((s not in stop_words)\\\n",
        "                                                            & (s!=''))]\\\n",
        "                                ## omit nan\n",
        "                                if type(x)==list else x)\n",
        "\n",
        "        ## count different words\n",
        "        all_words={}\n",
        "        for i,item in comments.iteritems():\n",
        "            if type(item)==list: ## omit nan\n",
        "                for w in item:\n",
        "                   if w not in all_words:\n",
        "                      all_words[w]=1\n",
        "                   else:\n",
        "                     all_words[w]+=1\n",
        "            \n",
        "\n",
        "        ## sort by key\n",
        "        sort_words=sorted(((value,key) for (key,value) in all_words.items()),\\\n",
        "                         reverse=True)\n",
        "        top_words=[(key,value) for (value,key) in sort_words[0:10]]\n",
        "        return top_words\n",
        "print(\"Top words for Jan 2016 are\",find_top_word(reviews_df,1,2016))\n",
        "print(\"Top words for March 2017 are\",find_top_word(reviews_df,3,2017))\n",
        "print(\"Top words for March 2017 are\",find_top_word(reviews_df,4,2018))"
      ],
      "execution_count": 111,
      "outputs": [
        {
          "output_type": "stream",
          "text": [
            "Top words for Jan 2016 are [('great', 5374), ('stay', 4661), ('place', 4284), ('clean', 2719), ('location', 2694), ('house', 2642), ('us', 2630), ('nice', 2403), ('would', 2382), ('host', 2325)]\n",
            "Top words for March 2017 are [('great', 12169), ('place', 11528), ('stay', 9453), ('location', 5860), ('clean', 5444), ('nice', 4540), ('would', 4514), ('host', 4422), ('house', 3769), ('comfortable', 3756)]\n",
            "Top words for March 2017 are [('great', 18787), ('place', 18654), ('stay', 14739), ('location', 9983), ('clean', 9031), ('would', 7263), ('nice', 6797), ('host', 6789), ('house', 5516), ('la', 5491)]\n"
          ],
          "name": "stdout"
        }
      ]
    },
    {
      "cell_type": "markdown",
      "metadata": {
        "id": "cITe6aLdZL2u",
        "colab_type": "text"
      },
      "source": [
        "### Question 8: Which five zipcode has the highest average listing price and has at least 30 listings (again only considering available dates) between 2020-01-01 to 2020-02-01 (inclusive)? What are these listing prices? What are the number of active listings and number of hosts in these top five zipcodes (a listing is active if it has at least one available date in the calendar data)?\n",
        "\n",
        "**Question 8 Answer:**\n",
        "\n",
        "- Top 5 zipcodes that have the highest average listing price are 90210, 90077, 90265, 90069, 91436. \n",
        "- The average listing prices are \\$1963.6, \\$1909.1, \\$1559.6, \\$998.1, \\$742.7. \n",
        "- Numbers of active listings are 278, 74, 329, 423, 40.\n",
        "- Numbers of hosts are 173, 48, 221, 305, 33."
      ]
    },
    {
      "cell_type": "code",
      "metadata": {
        "id": "LRKRsZ9QZL2v",
        "colab_type": "code",
        "outputId": "5a8e20bd-3e86-4884-da86-5535b879ce2b",
        "colab": {
          "base_uri": "https://localhost:8080/",
          "height": 119
        }
      },
      "source": [
        " ## filter dates\n",
        "calendar_df.date=pd.to_datetime(calendar_df.date)\n",
        "calendar_temp=calendar_df.loc[(calendar_df.date>=pd.Timestamp(2020,1,1)) & \\\n",
        "                               (calendar_df.date<=pd.Timestamp(2020,2,1)),]\\\n",
        "                               .reset_index(inplace=False,drop=True)\n",
        "\n",
        "calendar_temp=calendar_temp.loc[calendar_temp.available!='f',]\n",
        "\n",
        "## find \n",
        "query8=\"select t1.zipcode as zipcode, \\\n",
        "        count(distinct t1.id) as listings, \\\n",
        "        sum(t2.sum_price)/sum(t2.count_price) as avg_price, \\\n",
        "        count(distinct host_id) as hosts \\\n",
        "        \\\n",
        "        from listings_df as t1 join \\\n",
        "        \\\n",
        "        (select listing_id, sum(price) as sum_price, count(price) as count_price \\\n",
        "        from calendar_temp \\\n",
        "        group by listing_id) as t2 \\\n",
        "        \\\n",
        "        on t1.id=t2.listing_id \\\n",
        "        group by t1.zipcode \\\n",
        "        having listings>=30 \\\n",
        "        order by avg_price desc limit 5\"\n",
        "\n",
        "df_q8=pysqldf(query8)\n",
        "print(df_q8)"
      ],
      "execution_count": 114,
      "outputs": [
        {
          "output_type": "stream",
          "text": [
            "  zipcode  listings    avg_price  hosts\n",
            "0   90210       278  1963.557367    173\n",
            "1   90077        74  1909.066130     48\n",
            "2   90265       329  1559.605010    221\n",
            "3   90069       423   998.113153    305\n",
            "4   91436        40   742.660019     33\n"
          ],
          "name": "stdout"
        }
      ]
    },
    {
      "cell_type": "markdown",
      "metadata": {
        "id": "EtzugXCsZL2w",
        "colab_type": "text"
      },
      "source": [
        "### Question 9: Focusing on the data from 2020-01-01 to 2020-04-01 (inclusive), what are five zipcodes that have at least 30 listings and have the largest absolute difference between the average prices on weekends versus the average prices on weekdays? (Weekends = Saturday and Sunday). Please give the zipcodes as well as the listing prices\n",
        "**Question 9 Answer:**\n",
        "\n",
        "- Top 5 zipcodes are 90265, 91325, 91436, 90293, 90048.\n",
        "- The 5 largest absolute differences between prices on weekends and weekdays are 24.7, 15.3, 12.2, 12.1, 10.4.\n",
        "- The average prices on weekends and weekdays are presented in the table."
      ]
    },
    {
      "cell_type": "code",
      "metadata": {
        "id": "7-GodRdjZL2x",
        "colab_type": "code",
        "outputId": "f51088ee-fab2-46a5-8ae2-7a1c71940618",
        "colab": {
          "base_uri": "https://localhost:8080/",
          "height": 119
        }
      },
      "source": [
        "## process date and weekday\n",
        "calendar_df[\"weekday\"]=calendar_df.date.dt.weekday\n",
        "calendar_temp2=calendar_df.loc[(calendar_df.date>=pd.Timestamp(2020,1,1)) & \\\n",
        "                               (calendar_df.date<=pd.Timestamp(2020,4,1)),]\\\n",
        "                               .reset_index(inplace=False,drop=True)\n",
        "## find \n",
        "query9=\"select t1.zipcode as zipcode, \\\n",
        "        count(distinct t1.id) as listings, \\\n",
        "        sum(t2.sum_weekend_price)/sum(t2.count_weekend_price) as avg_weekend_price, \\\n",
        "        sum(t2.sum_weekday_price)/sum(t2.count_weekday_price) as avg_weekday_price, \\\n",
        "        abs(sum(t2.sum_weekend_price)/sum(t2.count_weekend_price)-sum(t2.sum_weekday_price)/sum(t2.count_weekday_price)) as difference \\\n",
        "        \\\n",
        "        from listings_df as t1 join \\\n",
        "        \\\n",
        "        ((select listing_id, sum(price) as sum_weekend_price, count(price) as count_weekend_price \\\n",
        "        from calendar_temp2 \\\n",
        "        where available!='f' and (weekday=5 or weekday=6)\\\n",
        "        group by listing_id) join \\\n",
        "        (select listing_id, sum(price) as sum_weekday_price, count(price) as count_weekday_price \\\n",
        "        from calendar_temp2 \\\n",
        "        where available!='f' and (weekday!=5 and weekday!=6)\\\n",
        "        group by listing_id) using (listing_id)) as t2 \\\n",
        "        \\\n",
        "        on t1.id=t2.listing_id \\\n",
        "        group by t1.zipcode \\\n",
        "        having listings>=30 \\\n",
        "        order by difference desc limit 5\"\n",
        "df_q9=pysqldf(query9)\n",
        "print(df_q9)"
      ],
      "execution_count": 0,
      "outputs": [
        {
          "output_type": "stream",
          "text": [
            "  zipcode  listings  avg_weekend_price  avg_weekday_price  difference\n",
            "0   90265       327        1584.743035        1560.047831   24.695205\n",
            "1   91325        51         318.357696         303.016354   15.341341\n",
            "2   91436        40         717.131461         704.904720   12.226741\n",
            "3   90293        91         286.943370         274.821375   12.121994\n",
            "4   90048       410         426.101584         415.712282   10.389302\n"
          ],
          "name": "stdout"
        }
      ]
    },
    {
      "cell_type": "markdown",
      "metadata": {
        "id": "ZECDqaSVZL2y",
        "colab_type": "text"
      },
      "source": [
        "### Question 10: What is the average and standard deviation of the daily total capacity at Airbnb Los Angeles from 2020-01-01 to 2020-04-01? The daily total capacity in a day is the number of beds that are available in that given date. What is the average and standard deviation of the daily price per bed at Airbnb Los Angeles from 2020-01-01 to 2020-04-01?\n",
        "**Question 10 Answer:**\n",
        "\n",
        "- The average of the daily total capacity is 46995.228261.\n",
        "- The standard deviation of the daily total capacity is 4980.641316.\n",
        "- The average of the daily price per bed is 454.513200.\n",
        "- The standard deviation of the daily price per bed is 24.440251."
      ]
    },
    {
      "cell_type": "code",
      "metadata": {
        "id": "WPQs4suHA58Y",
        "colab_type": "code",
        "outputId": "a3fd3a61-867c-4226-b09b-1f3cdde87b45",
        "colab": {
          "base_uri": "https://localhost:8080/",
          "height": 408
        }
      },
      "source": [
        "## already filtered out the dates in the previous question\n",
        "## filter out the unavailable dates and ids\n",
        "calendar_temp3=calendar_temp2.loc[calendar_temp2.available!='f',]\n",
        "\n",
        "## query to calculate the total capacity each day\n",
        "query10=\"select t2.date as date, sum(t1.beds) as beds \\\n",
        "from calendar_temp3 as t2 join listings_df as t1 on t1.id=t2.listing_id \\\n",
        "group by date\"\n",
        "\n",
        "df_q10=pysqldf(query10)\n",
        "print(df_q10)\n",
        "\n",
        "## print out the mean and standard deviation of daily capacity\n",
        "print(df_q10.describe())"
      ],
      "execution_count": 0,
      "outputs": [
        {
          "output_type": "stream",
          "text": [
            "                          date     beds\n",
            "0   2020-01-01 00:00:00.000000  44519.0\n",
            "1   2020-01-02 00:00:00.000000  46206.0\n",
            "2   2020-01-03 00:00:00.000000  47415.0\n",
            "3   2020-01-04 00:00:00.000000  48256.0\n",
            "4   2020-01-05 00:00:00.000000  48660.0\n",
            "..                         ...      ...\n",
            "87  2020-03-28 00:00:00.000000  38157.0\n",
            "88  2020-03-29 00:00:00.000000  38203.0\n",
            "89  2020-03-30 00:00:00.000000  38214.0\n",
            "90  2020-03-31 00:00:00.000000  38313.0\n",
            "91  2020-04-01 00:00:00.000000  38221.0\n",
            "\n",
            "[92 rows x 2 columns]\n",
            "               beds\n",
            "count     92.000000\n",
            "mean   46995.228261\n",
            "std     4980.641316\n",
            "min    37768.000000\n",
            "25%    47112.750000\n",
            "50%    49507.000000\n",
            "75%    49979.500000\n",
            "max    50863.000000\n"
          ],
          "name": "stdout"
        }
      ]
    },
    {
      "cell_type": "code",
      "metadata": {
        "id": "fV9VBYAKFS5V",
        "colab_type": "code",
        "outputId": "657bf35b-1163-4173-e722-f940c28c3483",
        "colab": {
          "base_uri": "https://localhost:8080/",
          "height": 408
        }
      },
      "source": [
        "## calculate daily price\n",
        "## should it be sum(beds of each id * price of each id)/total number of beds?\n",
        "query10_2=\"select t3.date, sum(t3.weighted_total_price) as sum_price from \\\n",
        "(select t1.id as id, t2.date as date, sum(t1.beds)*t2.price as weighted_total_price \\\n",
        "from listings_df as t1 join calendar_temp3 as t2 on t1.id=t2.listing_id \\\n",
        "group by t1.id, t2.date) as t3 \\\n",
        "group by t3.date\"\n",
        "df_q10_2=pysqldf(query10_2)\n",
        "\n",
        "## bind two dataframes and calculate the daily price per bed each day\n",
        "df_q10_3=pd.DataFrame({\"date\":df_q10.date,\"price_per_bed\":df_q10_2.sum_price/df_q10.beds})\n",
        "print(df_q10_3)\n",
        "print(df_q10_3.describe())"
      ],
      "execution_count": 0,
      "outputs": [
        {
          "output_type": "stream",
          "text": [
            "                          date  price_per_bed\n",
            "0   2020-01-01 00:00:00.000000     521.028011\n",
            "1   2020-01-02 00:00:00.000000     496.470329\n",
            "2   2020-01-03 00:00:00.000000     497.247137\n",
            "3   2020-01-04 00:00:00.000000     490.819649\n",
            "4   2020-01-05 00:00:00.000000     464.637752\n",
            "..                         ...            ...\n",
            "87  2020-03-28 00:00:00.000000     501.949131\n",
            "88  2020-03-29 00:00:00.000000     484.430071\n",
            "89  2020-03-30 00:00:00.000000     481.930549\n",
            "90  2020-03-31 00:00:00.000000     481.654817\n",
            "91  2020-04-01 00:00:00.000000     482.054656\n",
            "\n",
            "[92 rows x 2 columns]\n",
            "       price_per_bed\n",
            "count      92.000000\n",
            "mean      454.513200\n",
            "std        24.440251\n",
            "min       432.222202\n",
            "25%       434.221409\n",
            "50%       447.293050\n",
            "75%       481.961576\n",
            "max       521.028011\n"
          ],
          "name": "stdout"
        }
      ]
    },
    {
      "cell_type": "markdown",
      "metadata": {
        "id": "cdQfiLUjZL20",
        "colab_type": "text"
      },
      "source": [
        "## Part 2 (15 Points):\n",
        "\n",
        "In this part, you need to find **5** interesting business questions out of the datasets. You then need to write Python code to answer the questions. Last, you need to write a 200-word summary of your answers and business insights you get from ansewr these 5 questions based on your code. You will be evaluated based on the following criterion:\n",
        "\n",
        "1. You need to ask three business-relevant questions (2 points)\n",
        "2. You need to answer these three questions using Python and the datasets (1 points)\n",
        "3. You have at least **5** graphs to visualize your insights (2 points)\n",
        "4. Your executive summary of your answers are well-written and make sense (5 points)\n",
        "5. Your business insights are very interesting and the report is creative (5 points)\n"
      ]
    },
    {
      "cell_type": "markdown",
      "metadata": {
        "id": "XC_8fUYKZL21",
        "colab_type": "text"
      },
      "source": [
        "**(You need to use this cell to write your 5 questions)**\n",
        "\n",
        "**Question 1:**\n",
        "\n",
        "**Question 2:**\n",
        "\n",
        "**Question 3:**\n",
        "\n",
        "**Question 4:**\n",
        "\n",
        "**Question 5:**\n"
      ]
    },
    {
      "cell_type": "code",
      "metadata": {
        "id": "FjIarfKzZL21",
        "colab_type": "code",
        "colab": {}
      },
      "source": [
        "# Your code to answer Question 1"
      ],
      "execution_count": 0,
      "outputs": []
    },
    {
      "cell_type": "code",
      "metadata": {
        "id": "l9Y6NNhSZL22",
        "colab_type": "code",
        "colab": {}
      },
      "source": [
        "# Your code to answer Question 2"
      ],
      "execution_count": 0,
      "outputs": []
    },
    {
      "cell_type": "code",
      "metadata": {
        "id": "HG8jZqiZZL23",
        "colab_type": "code",
        "colab": {}
      },
      "source": [
        "# Your code to answer Question 3"
      ],
      "execution_count": 0,
      "outputs": []
    },
    {
      "cell_type": "code",
      "metadata": {
        "id": "mlqIk8HbZL24",
        "colab_type": "code",
        "colab": {}
      },
      "source": [
        "# Your code to answer Question 4"
      ],
      "execution_count": 0,
      "outputs": []
    },
    {
      "cell_type": "code",
      "metadata": {
        "id": "5jdmv9SuZL25",
        "colab_type": "code",
        "colab": {}
      },
      "source": [
        "# Your code to answer Question 5"
      ],
      "execution_count": 0,
      "outputs": []
    },
    {
      "cell_type": "markdown",
      "metadata": {
        "id": "PZrqq2hyZL26",
        "colab_type": "text"
      },
      "source": [
        "## Executive Summary\n",
        "**(You need to use this cell to write your executive summary)**\n"
      ]
    }
  ]
}