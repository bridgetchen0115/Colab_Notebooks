{
  "nbformat": 4,
  "nbformat_minor": 0,
  "metadata": {
    "kernelspec": {
      "display_name": "Python 3",
      "language": "python",
      "name": "python3"
    },
    "language_info": {
      "codemirror_mode": {
        "name": "ipython",
        "version": 3
      },
      "file_extension": ".py",
      "mimetype": "text/x-python",
      "name": "python",
      "nbconvert_exporter": "python",
      "pygments_lexer": "ipython3",
      "version": "3.7.4"
    },
    "colab": {
      "name": "PreProcess.ipynb",
      "provenance": [],
      "collapsed_sections": [],
      "include_colab_link": true
    }
  },
  "cells": [
    {
      "cell_type": "markdown",
      "metadata": {
        "id": "view-in-github",
        "colab_type": "text"
      },
      "source": [
        "<a href=\"https://colab.research.google.com/github/aoyingxue/Colab_Notebooks/blob/master/big_data_final/Youtube/PreProcess.ipynb\" target=\"_parent\"><img src=\"https://colab.research.google.com/assets/colab-badge.svg\" alt=\"Open In Colab\"/></a>"
      ]
    },
    {
      "cell_type": "code",
      "metadata": {
        "id": "ExmIBB_Xl8ar",
        "colab_type": "code",
        "outputId": "9be3db55-3b1c-4a1f-aaff-e014b9023cd4",
        "colab": {
          "base_uri": "https://localhost:8080/",
          "height": 120
        }
      },
      "source": [
        "from google.colab import drive\n",
        "drive.mount('/content/drive')"
      ],
      "execution_count": 0,
      "outputs": [
        {
          "output_type": "stream",
          "text": [
            "Go to this URL in a browser: https://accounts.google.com/o/oauth2/auth?client_id=947318989803-6bn6qk8qdgf4n4g3pfee6491hc0brc4i.apps.googleusercontent.com&redirect_uri=urn%3aietf%3awg%3aoauth%3a2.0%3aoob&response_type=code&scope=email%20https%3a%2f%2fwww.googleapis.com%2fauth%2fdocs.test%20https%3a%2f%2fwww.googleapis.com%2fauth%2fdrive%20https%3a%2f%2fwww.googleapis.com%2fauth%2fdrive.photos.readonly%20https%3a%2f%2fwww.googleapis.com%2fauth%2fpeopleapi.readonly\n",
            "\n",
            "Enter your authorization code:\n",
            "··········\n",
            "Mounted at /content/drive\n"
          ],
          "name": "stdout"
        }
      ]
    },
    {
      "cell_type": "code",
      "metadata": {
        "id": "JgqvfT5QnrH7",
        "colab_type": "code",
        "colab": {}
      },
      "source": [
        "## change directory\n",
        "import os\n",
        "os.chdir(\"drive/My Drive/Colab Notebooks/big_data_final\") "
      ],
      "execution_count": 0,
      "outputs": []
    },
    {
      "cell_type": "code",
      "metadata": {
        "id": "sloN0CBnl6A4",
        "colab_type": "code",
        "colab": {}
      },
      "source": [
        "import pandas as pd"
      ],
      "execution_count": 0,
      "outputs": []
    },
    {
      "cell_type": "code",
      "metadata": {
        "id": "rq4HJVKBl6BO",
        "colab_type": "code",
        "outputId": "844706d4-82bf-4fbf-cd3a-348cb7df688e",
        "colab": {
          "base_uri": "https://localhost:8080/",
          "height": 137
        }
      },
      "source": [
        "## columns that have extra commas: title, channel_title, description\n",
        "print(sum([\",\" in x for x in usvideos.title]))\n",
        "print(sum([\",\" in x for x in usvideos.channel_title]))\n",
        "print(sum([\",\" in x for x in usvideos.description if type(x)==str]))\n",
        "\n",
        "def rm_comma(df):\n",
        "    df.title=df.title.apply(lambda x: x.replace(\",\",\";\"))\n",
        "    df.channel_title=df.channel_title.apply(lambda x: x.replace(\",\",\";\"))\n",
        "    df.description=df.description.apply(lambda x: x.replace(\",\",\";\") if type(x)==str else x)\n",
        "    return df\n",
        "usvideos=rm_comma(usvideos)\n",
        "print(sum([\",\" in x for x in usvideos.title]))\n",
        "print(sum([\",\" in x for x in usvideos.channel_title]))\n",
        "print(sum([\",\" in x for x in usvideos.description if type(x)==str]))"
      ],
      "execution_count": 0,
      "outputs": [
        {
          "output_type": "stream",
          "text": [
            "2152\n",
            "40\n",
            "19021\n",
            "0\n",
            "0\n",
            "0\n"
          ],
          "name": "stdout"
        }
      ]
    },
    {
      "cell_type": "code",
      "metadata": {
        "id": "mwMHYk6Vq9m2",
        "colab_type": "code",
        "outputId": "17fee655-03b7-4921-94c5-dcf4c962ad65",
        "colab": {
          "base_uri": "https://localhost:8080/",
          "height": 104
        }
      },
      "source": [
        "## get file names\n",
        "import glob\n",
        "file_names=glob.glob('Youtube/*videos.csv')\n",
        "print(file_names)\n",
        "\n",
        "for name in file_names:\n",
        "    print(name)\n",
        "    df=pd.read_csv(name)\n",
        "    df=rm_comma(df)\n",
        "    string=name.strip('.csv')+\"_edited.csv\"\n",
        "    df.to_csv(string,index=False)\n"
      ],
      "execution_count": 0,
      "outputs": [
        {
          "output_type": "stream",
          "text": [
            "['Youtube/CAvideos.csv', 'Youtube/GBvideos.csv', 'Youtube/USvideos.csv']\n",
            "Youtube/CAvideos.csv\n",
            "Youtube/GBvideos.csv\n",
            "Youtube/USvideos.csv\n"
          ],
          "name": "stdout"
        }
      ]
    },
    {
      "cell_type": "code",
      "metadata": {
        "id": "u6T0g6QuuGpn",
        "colab_type": "code",
        "colab": {}
      },
      "source": [
        ""
      ],
      "execution_count": 0,
      "outputs": []
    }
  ]
}